{
 "cells": [
  {
   "cell_type": "code",
   "execution_count": 15,
   "metadata": {},
   "outputs": [
    {
     "name": "stdout",
     "output_type": "stream",
     "text": [
      "dict_values(['Abid', 'husain', 23, 'karachi', 'Enter'])\n",
      "dict_values(['Abid', 'husain', 23, 'karachi', 'high acedemic level'])\n",
      "dict_values(['Abid', 'husain', 23, 'karachi'])\n"
     ]
    }
   ],
   "source": [
    "#question 1\n",
    "information = {\n",
    "     \"first_name\" : \"Abid\",\n",
    "     \"last_name\" : \"husain\",\n",
    "     \"age\" : 23,\n",
    "     \"city\" : \"karachi\"\n",
    "}\n",
    "information[\"qualification\"] = \"Enter\"\n",
    "print(information.values())\n",
    "information[\"qualification\"] = \"high acedemic level\"\n",
    "print(information.values())\n",
    "del information[\"qualification\"]\n",
    "print(information.values())"
   ]
  },
  {
   "cell_type": "code",
   "execution_count": 37,
   "metadata": {},
   "outputs": [
    {
     "name": "stdout",
     "output_type": "stream",
     "text": [
      "The information of Karachi is :\n",
      "Name of country : Pakistan\n",
      "Population : 14.91 million\n",
      "fact : It is the Sixth largest city in the world by city population.\n",
      "\n",
      "The information of London is :\n",
      "Name of country : UK\n",
      "Population : 8.9 million\n",
      "fact : It is estimated that there are over 300 languages spoken in London.\n",
      "\n",
      "The information of Istanbul is :\n",
      "Name of country : Turkey\n",
      "Population : 15.07 million\n",
      "fact : Istanbul is the only city in the world that straddles two continents: Asia and Europe.\n"
     ]
    }
   ],
   "source": [
    "#question 2\n",
    "cities = {\n",
    "    \"karachi\" :{\n",
    "        \"information\" : [\"Name of country : Pakistan\", \"Population : 14.91 million\" , \"fact : It is the Sixth largest city in the world by city population.\"]\n",
    "    },\n",
    "    \n",
    "    \"London\" :{\n",
    "        \"information\" : [\"Name of country : UK\" , \"Population : 8.9 million\" ,\"fact : It is estimated that there are over 300 languages spoken in London.\"]\n",
    "    },\n",
    "    \n",
    "    \"Istanbul\" :{\n",
    "        \"information\" : [\"Name of country : Turkey\" , \"Population : 15.07 million\" , \"fact : Istanbul is the only city in the world that straddles two continents: Asia and Europe.\"]\n",
    "    }\n",
    "\n",
    "}\n",
    "print(\"The information of Karachi is :\")\n",
    "for info in cities['karachi']['information']:\n",
    "    print(info)\n",
    "\n",
    "print(\"\\nThe information of London is :\")\n",
    "for info in cities['London']['information']:\n",
    "    print(info)\n",
    "\n",
    "print(\"\\nThe information of Istanbul is :\")\n",
    "for info in cities['Istanbul']['information']:\n",
    "    print(info)"
   ]
  },
  {
   "cell_type": "code",
   "execution_count": 39,
   "metadata": {},
   "outputs": [
    {
     "name": "stdout",
     "output_type": "stream",
     "text": [
      "enter your age : 34\n",
      "the ticket is $15\n"
     ]
    }
   ],
   "source": [
    "#question 3\n",
    "age = int(input(\"enter your age : \"))\n",
    "if age <= 3:\n",
    "    print(\"you are free to watch theater\")\n",
    "elif age > 3 and age <=12:\n",
    "    print(\"the ticket is $10\")\n",
    "else :\n",
    "    print(\"the ticket is $15\")\n"
   ]
  },
  {
   "cell_type": "code",
   "execution_count": 40,
   "metadata": {},
   "outputs": [
    {
     "name": "stdout",
     "output_type": "stream",
     "text": [
      "My favorite book is Theory of everything\n"
     ]
    }
   ],
   "source": [
    "#question 4\n",
    "def favorite_book(x):\n",
    "    print(\"My favorite book is\" + \" \" + x)\n",
    "    \n",
    "favorite_book(\"Theory of everything\")"
   ]
  },
  {
   "cell_type": "code",
   "execution_count": 50,
   "metadata": {},
   "outputs": [
    {
     "name": "stdout",
     "output_type": "stream",
     "text": [
      "random number has been generated\n",
      "Your guess please: 9\n",
      "Try one more time, a bit higher\n",
      "Your guess please: 13\n",
      "Try one more time, a bit higher\n",
      "Your guess please: 21\n",
      "Try one more time, a bit higher\n",
      "Your guess please: 25\n",
      "Try one more time, a bit lower\n",
      "Your guess please: 23\n",
      "Try one more time, a bit lower\n",
      "Your guess please: 22\n",
      "Well done!\n",
      "End of program\n"
     ]
    }
   ],
   "source": [
    "#question 5\n",
    "import random \n",
    "y = random.randrange(0,29)\n",
    "print(\"random number has been generated\")\n",
    "guessed = False\n",
    "while guessed==False:\n",
    "    userInput = int(input(\"Your guess please: \"))\n",
    "    if userInput== y :\n",
    "        guessed = True\n",
    "        print(\"Well done!\")\n",
    "    elif userInput>30:\n",
    "        print(\"Our guess range is between 0 and 30, please try a bit lower\")\n",
    "    elif userInput<0:\n",
    "        print(\"Our guess range is between 0 and 30, please try a bit higher\")\n",
    "    elif userInput> y :\n",
    "        print(\"Try one more time, a bit lower\")\n",
    "    elif userInput < y :\n",
    "        print(\"Try one more time, a bit higher\")\n",
    "\n",
    "print(\"End of program\")"
   ]
  },
  {
   "cell_type": "code",
   "execution_count": 49,
   "metadata": {},
   "outputs": [
    {
     "name": "stdout",
     "output_type": "stream",
     "text": [
      "\n"
     ]
    }
   ],
   "source": []
  },
  {
   "cell_type": "code",
   "execution_count": null,
   "metadata": {},
   "outputs": [],
   "source": []
  }
 ],
 "metadata": {
  "kernelspec": {
   "display_name": "Python 3",
   "language": "python",
   "name": "python3"
  },
  "language_info": {
   "codemirror_mode": {
    "name": "ipython",
    "version": 3
   },
   "file_extension": ".py",
   "mimetype": "text/x-python",
   "name": "python",
   "nbconvert_exporter": "python",
   "pygments_lexer": "ipython3",
   "version": "3.7.3"
  }
 },
 "nbformat": 4,
 "nbformat_minor": 2
}
