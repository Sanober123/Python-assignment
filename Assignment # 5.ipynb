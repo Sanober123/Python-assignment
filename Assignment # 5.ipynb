{
 "cells": [
  {
   "cell_type": "markdown",
   "metadata": {},
   "source": [
    "# Assignment 5\n"
   ]
  },
  {
   "cell_type": "markdown",
   "metadata": {},
   "source": [
    "### Question:1 Write a Python function to calculate the factorial of a number (a non-negative integer). The function accepts the number as an argument. "
   ]
  },
  {
   "cell_type": "code",
   "execution_count": 8,
   "metadata": {},
   "outputs": [
    {
     "name": "stdout",
     "output_type": "stream",
     "text": [
      "6! = 720\n",
      "Invalid input\n"
     ]
    }
   ],
   "source": [
    "def factorial(number):\n",
    "    if str(number).isdecimal():\n",
    "        number=int(number)\n",
    "        if number==0 or number==1:\n",
    "            return 1\n",
    "        else:\n",
    "            x=1\n",
    "            for i in range(2,number+1):\n",
    "                x=x*i\n",
    "            return x\n",
    "    \n",
    "    else:\n",
    "        return \"Invalid input\"\n",
    "print('6! =',factorial(6))\n",
    "print(factorial('LOW'))"
   ]
  },
  {
   "cell_type": "markdown",
   "metadata": {},
   "source": [
    "### Question:2 Write a Python function that accepts a string and calculate the number of upper case letters and lower case letters. "
   ]
  },
  {
   "cell_type": "code",
   "execution_count": 2,
   "metadata": {},
   "outputs": [
    {
     "name": "stdout",
     "output_type": "stream",
     "text": [
      "Asdf334KJKjKLH has \n",
      "Upper  = 7\n",
      "Lower  = 4\n",
      "Number = 3\n"
     ]
    }
   ],
   "source": [
    "def CountUpperLower(string):\n",
    "    upper=0\n",
    "    lower=0\n",
    "    num=0\n",
    "    for i in string:\n",
    "        if(str(i).isupper()):\n",
    "            upper+=1\n",
    "        elif(str(i).islower()):\n",
    "            lower+=1\n",
    "        elif(str(i).isnumeric()):\n",
    "            num+=1\n",
    "    return [upper,lower,num]\n",
    "[u,l,n]=CountUpperLower('Asdf334KJKjKLH')\n",
    "print('Asdf334KJKjKLH has ')\n",
    "print('Upper  =',u)\n",
    "print('Lower  =',l)\n",
    "print('Number =',n)\n"
   ]
  },
  {
   "cell_type": "markdown",
   "metadata": {},
   "source": [
    "### Question:3 Write a Python function to print the even numbers from a given list. \n"
   ]
  },
  {
   "cell_type": "code",
   "execution_count": 3,
   "metadata": {},
   "outputs": [
    {
     "data": {
      "text/plain": [
       "[2, 4, 6, 4, 14, 34]"
      ]
     },
     "execution_count": 3,
     "metadata": {},
     "output_type": "execute_result"
    }
   ],
   "source": [
    "def PrintEven(lst):\n",
    "    tt=[]\n",
    "    for i in lst:\n",
    "        if int(i)%2==0:\n",
    "            tt.append(i)\n",
    "    return tt\n",
    "PrintEven([1,2,3,4,5,6,7,5,4,3,9,14,17,34])"
   ]
  },
  {
   "cell_type": "markdown",
   "metadata": {},
   "source": [
    "### Question:4 Write a Python function that checks whether a passed string is palindrome or not. Note: A palindrome is a word, phrase, or sequence that reads the same backward as forward, e.g., madam "
   ]
  },
  {
   "cell_type": "code",
   "execution_count": 4,
   "metadata": {},
   "outputs": [
    {
     "name": "stdout",
     "output_type": "stream",
     "text": [
      "'madam' is Palindrome\n",
      "'nokia' is Not Palindrome\n"
     ]
    }
   ],
   "source": [
    "def Palindrome(string):\n",
    "    ln=len(string)\n",
    "    string=str(string).lower()\n",
    "    for i in range(int(len(string)/2)):\n",
    "        if string[i]!=string[ln-i-1]:\n",
    "            return \"Not Palindrome\"\n",
    "    else:\n",
    "        return \"Palindrome\"\n",
    "word='madam'\n",
    "print('\\''+word+'\\'','is',Palindrome(word))\n",
    "word='nokia'\n",
    "print('\\''+word+'\\'','is',Palindrome(word))"
   ]
  },
  {
   "cell_type": "markdown",
   "metadata": {},
   "source": [
    "### Question:5 Write a Python function that takes a number as a parameter and check the number is prime or not. \n"
   ]
  },
  {
   "cell_type": "code",
   "execution_count": 5,
   "metadata": {},
   "outputs": [
    {
     "name": "stdout",
     "output_type": "stream",
     "text": [
      "97 is Prime\n",
      "64 is Not Prime\n",
      "LOW is Invalid Input\n"
     ]
    }
   ],
   "source": [
    "def Prime(num):\n",
    "    if str(num).isnumeric():\n",
    "        num=int(num)\n",
    "        if(num>=1 and num<=3):\n",
    "            return \"Prime\"\n",
    "        elif num>0:\n",
    "            for i in range(2,num):\n",
    "                if num%i==0:\n",
    "                    return \"Not Prime\"\n",
    "            else:\n",
    "                return \"Prime\"\n",
    "        else:\n",
    "            return \"Not Prime\"\n",
    "    else:\n",
    "        return \"Invalid Input\"\n",
    "print(97,'is',Prime(97))\n",
    "print(64,'is',Prime(64))\n",
    "print('LOW is',Prime('LOW'))"
   ]
  },
  {
   "cell_type": "markdown",
   "metadata": {},
   "source": [
    "### Question: 6 Suppose a customer is shopping in a market and you need to print all the items which user bought from market. Write a function which accepts the multiple arguments of user shopping list and print all the items which user bought from market. "
   ]
  },
  {
   "cell_type": "code",
   "execution_count": 6,
   "metadata": {},
   "outputs": [
    {
     "name": "stdout",
     "output_type": "stream",
     "text": [
      "Bag\n",
      "Book\n",
      "Pen\n",
      "Box\n"
     ]
    }
   ],
   "source": [
    "def Shoping(*items):\n",
    "    for i in items:\n",
    "        print(i)\n",
    "Shoping(\"Bag\",\"Book\",\"Pen\",\"Box\")"
   ]
  },
  {
   "cell_type": "code",
   "execution_count": null,
   "metadata": {},
   "outputs": [],
   "source": []
  }
 ],
 "metadata": {
  "kernelspec": {
   "display_name": "Python 3",
   "language": "python",
   "name": "python3"
  },
  "language_info": {
   "codemirror_mode": {
    "name": "ipython",
    "version": 3
   },
   "file_extension": ".py",
   "mimetype": "text/x-python",
   "name": "python",
   "nbconvert_exporter": "python",
   "pygments_lexer": "ipython3",
   "version": "3.7.3"
  }
 },
 "nbformat": 4,
 "nbformat_minor": 2
}
