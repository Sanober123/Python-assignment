{
 "cells": [
  {
   "cell_type": "code",
   "execution_count": 5,
   "metadata": {},
   "outputs": [
    {
     "name": "stdout",
     "output_type": "stream",
     "text": [
      "enter first value4\n",
      "enter second value3\n",
      "what do you want to do power\n",
      "64\n"
     ]
    }
   ],
   "source": [
    "a = int(input(\"enter first value\"))\n",
    "b = int(input(\"enter second value\"))\n",
    "choice = input(\"what do you want to do \")\n",
    "if choice == \"+\":\n",
    "    print(a+b)\n",
    "elif choice == \"-\" : \n",
    "    print(a-b)\n",
    "elif choice == \"*\" : \n",
    "    print(a*b)\n",
    "elif choice == \"/\" : \n",
    "    print(a/b)\n",
    "elif choice == \"power\" : \n",
    "    print(a**b)\n",
    "else: \n",
    "    print(\"invalid syntax\")"
   ]
  },
  {
   "cell_type": "code",
   "execution_count": 15,
   "metadata": {},
   "outputs": [
    {
     "name": "stdout",
     "output_type": "stream",
     "text": [
      "1 \tint\n",
      "ss \tnot an int\n",
      "rue \tnot an int\n",
      "78 \tint\n",
      "hjfh \tnot an int\n",
      "98 \tint\n"
     ]
    }
   ],
   "source": [
    "fish = [1,\"ss\",\"rue\",\"78\",\"hjfh\",\"98\"]\n",
    "for i in fish:\n",
    "    if str(i).isdigit():\n",
    "        print(i , \"\\tint\")\n",
    "    else:\n",
    "        print(i , \"\\tnot an int\")"
   ]
  },
  {
   "cell_type": "code",
   "execution_count": 42,
   "metadata": {},
   "outputs": [
    {
     "name": "stdout",
     "output_type": "stream",
     "text": [
      "mathematics \t:\t89\n",
      "physics \t:\t97\n",
      "chemistry \t:\t87\n"
     ]
    }
   ],
   "source": [
    "f = {\n",
    "    \"mathematics\": \"89\",\n",
    "    \"physics\" : \"97\" \n",
    "}\n",
    "f['chemistry']= '87'\n",
    "for k,v in f.items():\n",
    "    print(k,v,sep=' \\t:\\t')"
   ]
  },
  {
   "cell_type": "code",
   "execution_count": 49,
   "metadata": {},
   "outputs": [
    {
     "name": "stdout",
     "output_type": "stream",
     "text": [
      "mathematics \t:\t89\n",
      "physics \t:\t97\n",
      "chemistry \t:\t87\n",
      "total =  273\n"
     ]
    }
   ],
   "source": [
    "j = {\n",
    "    \"mathematics\": \"89\",\n",
    "    \"physics\" : \"97\",\n",
    "    \"chemistry\" : \"87\"\n",
    "}\n",
    "summ = 0\n",
    "for k,v in j.items():\n",
    "    print(k,v,sep=' \\t:\\t')\n",
    "    summ += int(v)\n",
    "print(\"total = \", summ)"
   ]
  },
  {
   "cell_type": "code",
   "execution_count": 74,
   "metadata": {},
   "outputs": [
    {
     "name": "stdout",
     "output_type": "stream",
     "text": [
      "5\n",
      "6\n",
      "23\n"
     ]
    }
   ],
   "source": [
    "from itertools import groupby\n",
    "\n",
    "myList  = [23,45,5,6,5,77,8,9,23,6,18,4,6,12]\n",
    "for x, y in groupby(sorted(myList)):\n",
    "    if len(list(y)) > 1:\n",
    "        print (x)  "
   ]
  },
  {
   "cell_type": "code",
   "execution_count": 80,
   "metadata": {},
   "outputs": [
    {
     "name": "stdout",
     "output_type": "stream",
     "text": [
      "Key is not present in the dictionary\n",
      "Key is present in the dictionary\n"
     ]
    }
   ],
   "source": [
    "d = {1: 10, 2: 20, 3: 30, 4: 40, 5: 50, 6: 60}\n",
    "def is_key_present(x):\n",
    "    if x in d:\n",
    "        print('Key is present in the dictionary')\n",
    "    else:\n",
    "        print('Key is not present in the dictionary')\n",
    "\n",
    "is_key_present(9)\n",
    "is_key_present(2)"
   ]
  },
  {
   "cell_type": "code",
   "execution_count": null,
   "metadata": {},
   "outputs": [],
   "source": []
  }
 ],
 "metadata": {
  "kernelspec": {
   "display_name": "Python 3",
   "language": "python",
   "name": "python3"
  },
  "language_info": {
   "codemirror_mode": {
    "name": "ipython",
    "version": 3
   },
   "file_extension": ".py",
   "mimetype": "text/x-python",
   "name": "python",
   "nbconvert_exporter": "python",
   "pygments_lexer": "ipython3",
   "version": "3.7.3"
  }
 },
 "nbformat": 4,
 "nbformat_minor": 2
}
