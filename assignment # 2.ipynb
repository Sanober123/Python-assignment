{
 "cells": [
  {
   "cell_type": "code",
   "execution_count": 22,
   "metadata": {},
   "outputs": [
    {
     "name": "stdout",
     "output_type": "stream",
     "text": [
      "enter the marks of math 67\n",
      "enter the marks of english 87\n",
      "enter the marks of physics 56\n",
      "enter the marks of chemistry 58\n",
      "enter the marks of biology 99\n",
      "Your Grade is B+\n",
      "total marks =  367\n"
     ]
    }
   ],
   "source": [
    "A = int(input(\"enter the marks of math \"))\n",
    "B = int(input(\"enter the marks of english \"))\n",
    "C = int(input(\"enter the marks of physics \"))\n",
    "D = int(input(\"enter the marks of chemistry \"))\n",
    "E = int(input(\"enter the marks of biology \"))\n",
    "total_marks = A + B + C + D + E\n",
    "average= total_marks*100/500\n",
    "if(average>=91 and average<=100):\n",
    "        print(\"Your Grade is A+\")\n",
    "elif(average>=81 and average<=90):\n",
    "        print(\"Your Grade is A\")\n",
    "elif(average>=71 and average<=80):\n",
    "        print(\"Your Grade is B+\")\n",
    "elif(average>=61 and average<=70):\n",
    "        print(\"Your Grade is B\")\n",
    "elif(average>=51 and average<=60):\n",
    "        print(\"Your Grade is C\")\n",
    "elif(average>=41 and average<=50):\n",
    "        print(\"Your Grade is D\")\n",
    "elif(average>=0 and average<=40):\n",
    "        print(\"Your Grade is F\")\n",
    "else:\n",
    "        print(\"Strange Grade..!!\");\n",
    "print(\"total marks = \", total_marks)"
   ]
  },
  {
   "cell_type": "code",
   "execution_count": 21,
   "metadata": {},
   "outputs": [
    {
     "name": "stdout",
     "output_type": "stream",
     "text": [
      "write any number45\n",
      "1\n",
      "the number is odd\n"
     ]
    }
   ],
   "source": [
    "x = int(input(\"write any number\"))\n",
    "p = x%2\n",
    "print (p)\n",
    "if p == 1: \n",
    "    print(\"the number is odd\")\n",
    "else:\n",
    "    print (\"the number is even\")"
   ]
  },
  {
   "cell_type": "code",
   "execution_count": 27,
   "metadata": {},
   "outputs": [
    {
     "name": "stdout",
     "output_type": "stream",
     "text": [
      "6\n"
     ]
    }
   ],
   "source": [
    "t= len([1,\"ff\",\"gg\",\"kk\",\"true\",43])\n",
    "print(t)"
   ]
  },
  {
   "cell_type": "code",
   "execution_count": 26,
   "metadata": {},
   "outputs": [
    {
     "name": "stdout",
     "output_type": "stream",
     "text": [
      "how many numbers? 3\n",
      "enter numbers: 23\n",
      "enter numbers: 10\n",
      "enter numbers: 54\n",
      "total numbers are equal to :  87\n"
     ]
    }
   ],
   "source": [
    "li = []\n",
    "num = int (input(\"how many numbers? \"))\n",
    "for n in range (num):\n",
    "    numbers = int(input(\"enter numbers: \"))\n",
    "    li.append(numbers)\n",
    "print(\"total numbers are equal to : \", sum(li))"
   ]
  },
  {
   "cell_type": "code",
   "execution_count": 28,
   "metadata": {},
   "outputs": [
    {
     "name": "stdout",
     "output_type": "stream",
     "text": [
      "How many element are there in list : 3\n",
      "enter numbers : 45\n",
      "enter numbers : 54\n",
      "enter numbers : 67\n",
      "Largest number is :  67\n"
     ]
    }
   ],
   "source": [
    "lie=[]\n",
    "num = int(input(\"How many element are there in list : \"))\n",
    "for b in range (1, num +1):\n",
    "    ent = int(input(\"enter numbers : \"))\n",
    "    lie.append(ent)\n",
    "print(\"Largest number is : \" , max(lie))\n",
    "    "
   ]
  },
  {
   "cell_type": "code",
   "execution_count": 38,
   "metadata": {},
   "outputs": [
    {
     "name": "stdout",
     "output_type": "stream",
     "text": [
      "how many numbers in list : 7\n",
      "enter numbers : 23\n",
      "enter numbers : 43\n",
      "enter numbers : 5\n",
      "enter numbers : 1\n",
      "enter numbers : 6\n",
      "enter numbers : 8\n",
      "enter numbers : 34\n",
      "[23, 43, 5, 1, 6]\n"
     ]
    }
   ],
   "source": [
    "hie=[]\n",
    "jum = int(input(\"how many numbers in list : \"))\n",
    "for c in range (1,jum +1): \n",
    "    jet = int(input(\"enter numbers : \"))\n",
    "    hie.append(jet)\n",
    "print(hie[:5])"
   ]
  },
  {
   "cell_type": "code",
   "execution_count": null,
   "metadata": {},
   "outputs": [],
   "source": []
  },
  {
   "cell_type": "code",
   "execution_count": null,
   "metadata": {},
   "outputs": [],
   "source": []
  }
 ],
 "metadata": {
  "kernelspec": {
   "display_name": "Python 3",
   "language": "python",
   "name": "python3"
  },
  "language_info": {
   "codemirror_mode": {
    "name": "ipython",
    "version": 3
   },
   "file_extension": ".py",
   "mimetype": "text/x-python",
   "name": "python",
   "nbconvert_exporter": "python",
   "pygments_lexer": "ipython3",
   "version": "3.7.3"
  }
 },
 "nbformat": 4,
 "nbformat_minor": 2
}
