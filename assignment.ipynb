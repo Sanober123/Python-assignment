{
 "cells": [
  {
   "cell_type": "code",
   "execution_count": 1,
   "metadata": {},
   "outputs": [
    {
     "name": "stdout",
     "output_type": "stream",
     "text": [
      "Twinkle, twinkle, little star,\n",
      "      How I wonder what you are!\n",
      "            Up above the world so high,\n",
      "            Like a diamond in the sky.\n",
      "Twinkle, twinkle, little star,\n",
      "      How I wonder what you are\n"
     ]
    }
   ],
   "source": [
    "line1 = \"Twinkle, twinkle, little star,\"\n",
    "line2 = \"      How I wonder what you are\"\n",
    "print(line1)\n",
    "print(line2 + \"!\")\n",
    "print(\"            Up above the world so high,\")\n",
    "print(\"            Like a diamond in the sky.\")\n",
    "print(line1)\n",
    "print(line2)"
   ]
  },
  {
   "cell_type": "code",
   "execution_count": 10,
   "metadata": {},
   "outputs": [
    {
     "name": "stdout",
     "output_type": "stream",
     "text": [
      "The version that I used :  3.7.3 (default, Mar 27 2019, 17:13:21) [MSC v.1915 64 bit (AMD64)]\n"
     ]
    }
   ],
   "source": [
    "import sys\n",
    "print(\"The version that I used : \",sys.version)"
   ]
  },
  {
   "cell_type": "code",
   "execution_count": 16,
   "metadata": {
    "scrolled": true
   },
   "outputs": [
    {
     "name": "stdout",
     "output_type": "stream",
     "text": [
      "Current Date  Time\n",
      "03-11-19      12:48:55\n"
     ]
    }
   ],
   "source": [
    "import datetime\n",
    "time = datetime.datetime. now ()\n",
    "print (\"Current Date  Time\")\n",
    "print (time.strftime(\"%d-%m-%y      %H:%M:%S\") )"
   ]
  },
  {
   "cell_type": "code",
   "execution_count": 18,
   "metadata": {},
   "outputs": [
    {
     "name": "stdout",
     "output_type": "stream",
     "text": [
      "Radius of circle : 2\n",
      "12.564\n"
     ]
    }
   ],
   "source": [
    "r = int(input(\"Radius of circle : \"))\n",
    "area = 3.141*r**2\n",
    "print(area)"
   ]
  },
  {
   "cell_type": "code",
   "execution_count": 19,
   "metadata": {},
   "outputs": [
    {
     "name": "stdout",
     "output_type": "stream",
     "text": [
      "Write down your first name : sanober\n",
      "Write down your last name : muhammad hanif\n",
      "Name in reverse order : muhammad hanif sanober\n"
     ]
    }
   ],
   "source": [
    "First_name = input(\"Write down your first name : \")\n",
    "Last_name = input(\"Write down your last name : \")\n",
    "print(\"Name in reverse order : \" + Last_name + \" \" + First_name )"
   ]
  },
  {
   "cell_type": "code",
   "execution_count": 20,
   "metadata": {},
   "outputs": [
    {
     "name": "stdout",
     "output_type": "stream",
     "text": [
      "First number23\n",
      "Second number-9\n",
      "14\n"
     ]
    }
   ],
   "source": [
    "A = int(input(\"First number\"))\n",
    "B= int(input(\"Second number\"))\n",
    "print(A + B)"
   ]
  },
  {
   "cell_type": "code",
   "execution_count": null,
   "metadata": {},
   "outputs": [],
   "source": []
  }
 ],
 "metadata": {
  "kernelspec": {
   "display_name": "Python 3",
   "language": "python",
   "name": "python3"
  },
  "language_info": {
   "codemirror_mode": {
    "name": "ipython",
    "version": 3
   },
   "file_extension": ".py",
   "mimetype": "text/x-python",
   "name": "python",
   "nbconvert_exporter": "python",
   "pygments_lexer": "ipython3",
   "version": "3.7.3"
  }
 },
 "nbformat": 4,
 "nbformat_minor": 2
}
